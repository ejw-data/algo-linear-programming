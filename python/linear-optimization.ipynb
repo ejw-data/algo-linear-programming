{
 "cells": [
  {
   "cell_type": "markdown",
   "metadata": {},
   "source": [
    "#  Linear Programming with Constraints"
   ]
  },
  {
   "cell_type": "code",
   "execution_count": 2,
   "metadata": {},
   "outputs": [],
   "source": [
    "# Example from Udemy: Supply Chain Data Science\n",
    "# by Haytham Omar-Ph.D  \n",
    "\n",
    "# Reference:  "
   ]
  },
  {
   "cell_type": "code",
   "execution_count": 1,
   "metadata": {},
   "outputs": [],
   "source": [
    "# Dependencies\n",
    "from pulp import *"
   ]
  },
  {
   "cell_type": "code",
   "execution_count": 3,
   "metadata": {},
   "outputs": [],
   "source": [
    "# Parameters\n",
    "product_A_margin = 25\n",
    "product_B_margin = 35"
   ]
  },
  {
   "cell_type": "code",
   "execution_count": 4,
   "metadata": {},
   "outputs": [],
   "source": [
    "# Model setup\n",
    "model = LpProblem('PILLOWS',LpMaximize)\n",
    "\n",
    "# Define variables that will vary\n",
    "X1= LpVariable('X1',0,None,'Integer')\n",
    "X2= LpVariable('X2',0,None,'Integer')"
   ]
  },
  {
   "cell_type": "code",
   "execution_count": 7,
   "metadata": {},
   "outputs": [
    {
     "name": "stdout",
     "output_type": "stream",
     "text": [
      "Product A (X1) Optimum Amount:  65.0\n",
      "Product B (X2) Optimum Amount:  1.0\n"
     ]
    }
   ],
   "source": [
    "# Add relationships\n",
    "model += X1 *25 +X2 *35\n",
    "model += X1* 0.3 +X2 * 0.5 <= 20\n",
    "model += X1* 0.5 +X2 * 0.5 <= 35\n",
    "\n",
    "# Run model\n",
    "model.solve()\n",
    "\n",
    "# Print optimized variables\n",
    "print('Product A (X1) Optimum Amount: ', X1.varValue)\n",
    "print('Product B (X2) Optimum Amount: ', X2.varValue)"
   ]
  },
  {
   "cell_type": "code",
   "execution_count": null,
   "metadata": {},
   "outputs": [],
   "source": [
    "# Improvements\n",
    "# Extract out the remaining inventory and make a nice report"
   ]
  }
 ],
 "metadata": {
  "kernelspec": {
   "display_name": "python310",
   "language": "python",
   "name": "python3"
  },
  "language_info": {
   "codemirror_mode": {
    "name": "ipython",
    "version": 3
   },
   "file_extension": ".py",
   "mimetype": "text/x-python",
   "name": "python",
   "nbconvert_exporter": "python",
   "pygments_lexer": "ipython3",
   "version": "3.10.11"
  },
  "orig_nbformat": 4
 },
 "nbformat": 4,
 "nbformat_minor": 2
}
