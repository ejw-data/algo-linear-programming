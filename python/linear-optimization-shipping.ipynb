{
 "cells": [
  {
   "cell_type": "markdown",
   "metadata": {},
   "source": [
    "# Linear Optimization - Shipping"
   ]
  },
  {
   "cell_type": "markdown",
   "metadata": {},
   "source": [
    "Shipping example"
   ]
  },
  {
   "cell_type": "code",
   "execution_count": 11,
   "metadata": {},
   "outputs": [],
   "source": [
    "# Reference:  https://coin-or.github.io/pulp/\n",
    "\n",
    "# Dependencies \n",
    "from pulp import *"
   ]
  },
  {
   "cell_type": "code",
   "execution_count": 12,
   "metadata": {},
   "outputs": [],
   "source": [
    "# Parameters\n",
    "customers=['Australia','Sweeden','Brazil']\n",
    "factory= ['Factory1','Factory2']\n",
    "products= ['Chair','Table','Beds']\n"
   ]
  },
  {
   "cell_type": "code",
   "execution_count": 13,
   "metadata": {},
   "outputs": [],
   "source": [
    "# create cost table equivalent - this list aligns with the keys\n",
    "\n",
    "# create a list of all combinations\n",
    "keys= [(f,p,c) for f in factory for p in products for c in customers]\n",
    "\n",
    "# (factory1: chair x 3 countries, table x 3, bed x 3), (factory2: chair x 3, table x 3, bed x 3)\n",
    "costs_value= [50,80,50,\n",
    "              60,90,60,\n",
    "              70,90,70,\n",
    "              80,50,80,\n",
    "              90,60,90,\n",
    "              90,70,90]\n",
    "\n",
    "# pair the keys with cost values and convert to dictionary\n",
    "costs= dict(zip(keys,costs_value))"
   ]
  },
  {
   "cell_type": "code",
   "execution_count": 15,
   "metadata": {},
   "outputs": [],
   "source": [
    "# Create linear programming model\n",
    "model= LpProblem('shipping',LpMinimize)\n",
    "\n",
    "# add model variable\n",
    "var= LpVariable.dicts(name='shipment', indices=keys, lowBound=0, upBound=None, cat='Integer')\n",
    "\n",
    "# name – The prefix to the name of each LP variable created\n",
    "# indices – A list of strings of the keys to the dictionary of LP variables, and the main part of the variable name itself\n",
    "# lowBound – The lower bound on these variables’ range. Default is negative infinity\n",
    "# upBound – The upper bound on these variables’ range. Default is positive infinity\n",
    "# cat – The category these variables are in, Integer or Continuous(default)\n",
    "# indexs – (deprecated) Replaced with indices parameter"
   ]
  },
  {
   "cell_type": "code",
   "execution_count": 5,
   "metadata": {},
   "outputs": [],
   "source": [
    "# create demand table equivalent\n",
    "\n",
    "# create list of all combinations\n",
    "demand_keys= [(p,c)for c in customers\n",
    "              for p in products]\n",
    "\n",
    "# (Australia: chair, table, bed), (Sweden: ...),(Brazil: ...)\n",
    "demand_values=[50,80,200,\n",
    "               120,80,40,\n",
    "               30,60,175]  \n",
    "\n",
    "# pair the keys with the demand values and convert to dictionary\n",
    "demand= dict(zip(demand_keys,demand_values))"
   ]
  },
  {
   "cell_type": "code",
   "execution_count": 6,
   "metadata": {},
   "outputs": [],
   "source": [
    "# create model constraint that sums the product of cost and product sent (aka the varying variable :: var)\n",
    "model+= lpSum(var[(f,p,c)]*costs[(f,p,c)]\n",
    "   for f in factory for p in products for c in customers )\n",
    "\n",
    "# create model constraint where the sum of the product sent is less than 500 (total capacity)\n",
    "model += lpSum(var[('Factory1',p,c)]\n",
    "               for p in products for c in customers)<= 500\n",
    "model += lpSum(var[('Factory2',p,c)]\n",
    "               for p in products for c in customers)<= 500"
   ]
  },
  {
   "cell_type": "code",
   "execution_count": 7,
   "metadata": {},
   "outputs": [],
   "source": [
    "# create model relationship where the product sent (var) for each product is greater than the demand\n",
    "# goal is to supply all customers but remain under factory capacity\n",
    "for c in customers:\n",
    "    for p in products:\n",
    "        model += var[('Factory1',p,c)]+var[('Factory2',p,c)]>= demand[(p,c)]\n"
   ]
  },
  {
   "cell_type": "code",
   "execution_count": 8,
   "metadata": {},
   "outputs": [
    {
     "name": "stdout",
     "output_type": "stream",
     "text": [
      "('Factory1', 'Chair', 'Australia') shipping 50.0\n",
      "('Factory1', 'Chair', 'Sweeden') shipping 0.0\n",
      "('Factory1', 'Chair', 'Brazil') shipping 30.0\n",
      "('Factory1', 'Table', 'Australia') shipping 80.0\n",
      "('Factory1', 'Table', 'Sweeden') shipping 0.0\n",
      "('Factory1', 'Table', 'Brazil') shipping 60.0\n",
      "('Factory1', 'Beds', 'Australia') shipping 105.0\n",
      "('Factory1', 'Beds', 'Sweeden') shipping 0.0\n",
      "('Factory1', 'Beds', 'Brazil') shipping 175.0\n",
      "('Factory2', 'Chair', 'Australia') shipping 0.0\n",
      "('Factory2', 'Chair', 'Sweeden') shipping 120.0\n",
      "('Factory2', 'Chair', 'Brazil') shipping 0.0\n",
      "('Factory2', 'Table', 'Australia') shipping 0.0\n",
      "('Factory2', 'Table', 'Sweeden') shipping 80.0\n",
      "('Factory2', 'Table', 'Brazil') shipping 0.0\n",
      "('Factory2', 'Beds', 'Australia') shipping 95.0\n",
      "('Factory2', 'Beds', 'Sweeden') shipping 40.0\n",
      "('Factory2', 'Beds', 'Brazil') shipping 0.0\n"
     ]
    }
   ],
   "source": [
    "# run the model\n",
    "model.solve()\n",
    "\n",
    "# print results\n",
    "for i in var: \n",
    "    print('{} shipping {}'.format(i,var[i].varValue))"
   ]
  }
 ],
 "metadata": {
  "kernelspec": {
   "display_name": "python310",
   "language": "python",
   "name": "python3"
  },
  "language_info": {
   "codemirror_mode": {
    "name": "ipython",
    "version": 3
   },
   "file_extension": ".py",
   "mimetype": "text/x-python",
   "name": "python",
   "nbconvert_exporter": "python",
   "pygments_lexer": "ipython3",
   "version": "3.10.11"
  },
  "orig_nbformat": 4
 },
 "nbformat": 4,
 "nbformat_minor": 2
}
